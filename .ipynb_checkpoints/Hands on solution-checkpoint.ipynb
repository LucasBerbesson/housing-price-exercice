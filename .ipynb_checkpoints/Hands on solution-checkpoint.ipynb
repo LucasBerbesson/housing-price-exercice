{
 "cells": [
  {
   "cell_type": "markdown",
   "metadata": {},
   "source": [
    "# Analyse \"en marche\" speach\n",
    "Question : what are the most important words of the Macron's speach ?"
   ]
  },
  {
   "cell_type": "markdown",
   "metadata": {},
   "source": [
    "# Acquire data\n",
    "We want to analyze the content of [this page](https://en-marche.fr/emmanuel-macron/le-programme/environnement-et-transition-ecologique).  \n",
    "The copy/pasted text is stored in ``discours_en_marche.txt`` stored under the ``data`` folder.  \n",
    "Use the ``open()`` and  ``.read()`` functions to store the content of the file in a variable. "
   ]
  },
  {
   "cell_type": "code",
   "execution_count": 1,
   "metadata": {
    "collapsed": true
   },
   "outputs": [],
   "source": [
    "with open('./data/discours_en_marche.txt') as f:\n",
    "    discours_en_marche = f.read()"
   ]
  },
  {
   "cell_type": "markdown",
   "metadata": {},
   "source": [
    "Now use the [.split() function](https://docs.python.org/3.6/library/stdtypes.html#str.split) to split your variable in a list of words.   \n",
    "Print the first word."
   ]
  },
  {
   "cell_type": "code",
   "execution_count": 2,
   "metadata": {},
   "outputs": [
    {
     "name": "stdout",
     "output_type": "stream",
     "text": [
      "Environnement\n"
     ]
    }
   ],
   "source": [
    "words = discours_en_marche.split(\" \")\n",
    "print(words[0])"
   ]
  },
  {
   "cell_type": "markdown",
   "metadata": {},
   "source": [
    "# Clean data\n",
    "Small words are not relevants for our analysis.  \n",
    "Loop through the existing list of words to create a new list called ``long_words`` with words longer than 4.  \n",
    "Use the [.lower() function](https://docs.python.org/3.6/library/stdtypes.html?highlight=lower#str.lower) to store words in lower case."
   ]
  },
  {
   "cell_type": "code",
   "execution_count": 3,
   "metadata": {
    "collapsed": true
   },
   "outputs": [],
   "source": [
    "long_words = []\n",
    "for word in words:\n",
    "    if len(word)>4:\n",
    "        long_words.append(word.lower())"
   ]
  },
  {
   "cell_type": "markdown",
   "metadata": {},
   "source": [
    "Now create a new list called ``long_unbanned_words`` by removing the following words from ``long_words`` :\n",
    ">twitter', 'objectif','image','macron','privacy','france','retweets','comme','seront','emmanuel','emmanuelmacron', 'aujourd','notre'"
   ]
  },
  {
   "cell_type": "code",
   "execution_count": 4,
   "metadata": {
    "collapsed": true
   },
   "outputs": [],
   "source": [
    "banned_words = ['twitter', 'objectif','image','macron','privacy','france','retweets','comme','seront','emmanuel','emmanuelmacron', 'aujourd','notre']\n",
    "long_unbanned_words = []\n",
    "for word in long_words:\n",
    "    if word not in banned_words:\n",
    "        long_unbanned_words.append(word)"
   ]
  },
  {
   "cell_type": "markdown",
   "metadata": {},
   "source": [
    "# Analyse data\n",
    "We are going to use the pandas library to analyse our data and seaborn to plot an histogram. \n",
    "Start by importing the libraries. "
   ]
  },
  {
   "cell_type": "code",
   "execution_count": 5,
   "metadata": {
    "collapsed": true
   },
   "outputs": [],
   "source": [
    "import pandas as pd\n",
    "import seaborn as sns\n",
    "import matplotlib.pyplot as plt\n",
    "%matplotlib inline"
   ]
  },
  {
   "cell_type": "markdown",
   "metadata": {},
   "source": [
    "Create a 1-column Dataframe from your ``long_unbanned_words`` variable by calling pandas ``DataFrame()`` function."
   ]
  },
  {
   "cell_type": "code",
   "execution_count": 6,
   "metadata": {},
   "outputs": [
    {
     "data": {
      "text/plain": [
       "(1240, 1)"
      ]
     },
     "execution_count": 6,
     "metadata": {},
     "output_type": "execute_result"
    }
   ],
   "source": [
    "df = pd.DataFrame(long_unbanned_words,columns=[\"Mot\"])\n",
    "df.shape"
   ]
  },
  {
   "cell_type": "markdown",
   "metadata": {},
   "source": [
    "Use ``.value_counts`` to get the 20 most frequent words."
   ]
  },
  {
   "cell_type": "code",
   "execution_count": 7,
   "metadata": {},
   "outputs": [
    {
     "data": {
      "text/plain": [
       "transition        10\n",
       "énergies           8\n",
       "suivre             7\n",
       "milliards          7\n",
       "écologique         7\n",
       "produits           7\n",
       "accompagnerons     7\n",
       "#pandalive         6\n",
       "leurs              6\n",
       "français           6\n",
       "énergétique        5\n",
       "travaux            5\n",
       "d’ici              5\n",
       "modèle             5\n",
       "santé              5\n",
       "faire              5\n",
       "niveau             5\n",
       "agriculteurs       4\n",
       "ressources         4\n",
       "moins              4\n",
       "Name: Mot, dtype: int64"
      ]
     },
     "execution_count": 7,
     "metadata": {},
     "output_type": "execute_result"
    }
   ],
   "source": [
    "count = df[\"Mot\"].value_counts()[:20]\n",
    "count"
   ]
  },
  {
   "cell_type": "markdown",
   "metadata": {},
   "source": [
    "Use sns.barplot(x,y) to plot a vertical histogram of the most common words"
   ]
  },
  {
   "cell_type": "code",
   "execution_count": 8,
   "metadata": {},
   "outputs": [
    {
     "data": {
      "text/plain": [
       "<matplotlib.axes._subplots.AxesSubplot at 0x1094d0710>"
      ]
     },
     "execution_count": 8,
     "metadata": {},
     "output_type": "execute_result"
    },
    {
     "data": {
      "image/png": "[encoded data removed]",
      "text/plain": [
       "<matplotlib.figure.Figure at 0x1094d0908>"
      ]
     },
     "metadata": {},
     "output_type": "display_data"
    }
   ],
   "source": [
    "plt.figure(figsize=(15,10))\n",
    "sns.barplot(count.values,count.index )"
   ]
  },
  {
   "cell_type": "code",
   "execution_count": null,
   "metadata": {
    "collapsed": true
   },
   "outputs": [],
   "source": []
  },
  {
   "cell_type": "code",
   "execution_count": null,
   "metadata": {
    "collapsed": true
   },
   "outputs": [],
   "source": []
  }
 ],
 "metadata": {
  "kernelspec": {
   "display_name": "Python 3",
   "language": "python",
   "name": "python3"
  },
  "language_info": {
   "codemirror_mode": {
    "name": "ipython",
    "version": 3
   },
   "file_extension": ".py",
   "mimetype": "text/x-python",
   "name": "python",
   "nbconvert_exporter": "python",
   "pygments_lexer": "ipython3",
   "version": "3.5.1"
  }
 },
 "nbformat": 4,
 "nbformat_minor": 2
}
